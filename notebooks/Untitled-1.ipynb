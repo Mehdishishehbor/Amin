{
 "cells": [
  {
   "cell_type": "code",
   "execution_count": 13,
   "metadata": {},
   "outputs": [
    {
     "data": {
      "text/plain": [
       "array({'a_1': [[0.12883108592046494]], 'a_2': [[-0.24623792643487624]], 'a_3': [[0.13103420154668882]], 'a_4': [[-0.25895425502852404]], 'a_5': [[0.11461407195038692]], 'a_6': [[-0.1641169720050194]], 'a_7': [[0.04856199456390502]], 'a_8': [[0.2197095673715375]]},\n",
       "      dtype=object)"
      ]
     },
     "execution_count": 13,
     "metadata": {},
     "output_type": "execute_result"
    }
   ],
   "source": [
    "import numpy as np \n",
    "\n",
    "x=np.load('./DATA_one.npy', allow_pickle=True)\n",
    "\n",
    "x"
   ]
  }
 ],
 "metadata": {
  "interpreter": {
   "hash": "3ff295e2fac1163c6f71c267cb1eb470b7f65186cd5a72d8af6429145ba7f664"
  },
  "kernelspec": {
   "display_name": "Python 3.9.9 64-bit (windows store)",
   "language": "python",
   "name": "python3"
  },
  "language_info": {
   "codemirror_mode": {
    "name": "ipython",
    "version": 3
   },
   "file_extension": ".py",
   "mimetype": "text/x-python",
   "name": "python",
   "nbconvert_exporter": "python",
   "pygments_lexer": "ipython3",
   "version": "3.9.9"
  },
  "orig_nbformat": 4
 },
 "nbformat": 4,
 "nbformat_minor": 2
}
