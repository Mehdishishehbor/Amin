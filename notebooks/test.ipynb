{
 "cells": [
  {
   "cell_type": "code",
   "execution_count": 1,
   "metadata": {},
   "outputs": [],
   "source": [
    "from lmgp_pytorch.preprocessing.numericlevels import setlevels\n",
    "from lmgp_pytorch.preprocessing.Normalize import standard\n",
    "import torch\n",
    "from lmgp_pytorch.test_functions.multi_fidelity import wing_h, wing_l1, wing_l2, wing_l3, multi_fidelity_wing\n",
    "import matplotlib.pyplot as plt\n",
    "import numpy as np"
   ]
  },
  {
   "cell_type": "code",
   "execution_count": null,
   "metadata": {},
   "outputs": [],
   "source": [
    "a = torch.tensor([[0.5, 0.75, 0.1, 1.0, 0.5, 0.75, 0.125, 0.1, 1.0, 0.1, 0.5], [0.75, 0.1, 0.5, 0.5, 0.5, 0.75, 0.125, 0.1, 1.0, 0.1, 0.5]])\n",
    "X = torch.randn([11, 4]) * 6 + 2\n",
    "X = torch.concat([X, a.T], axis = 1)"
   ]
  },
  {
   "cell_type": "code",
   "execution_count": null,
   "metadata": {},
   "outputs": [],
   "source": [
    "X2 = setlevels(X, [4,5])\n"
   ]
  },
  {
   "cell_type": "code",
   "execution_count": null,
   "metadata": {},
   "outputs": [],
   "source": [
    "type(X2)"
   ]
  },
  {
   "cell_type": "code",
   "execution_count": null,
   "metadata": {},
   "outputs": [],
   "source": [
    "X"
   ]
  },
  {
   "cell_type": "code",
   "execution_count": null,
   "metadata": {},
   "outputs": [],
   "source": [
    "n = 10000\n",
    "Xh, yh= wing_h(n = n)\n",
    "Xl1, yl1= wing_l1(n = n)\n",
    "Xl2, yl2= wing_l2(n = n)\n",
    "Xl3, yl3= wing_l3(n = n)\n"
   ]
  },
  {
   "cell_type": "code",
   "execution_count": null,
   "metadata": {},
   "outputs": [],
   "source": [
    "Xh[0,:]"
   ]
  },
  {
   "cell_type": "code",
   "execution_count": null,
   "metadata": {},
   "outputs": [],
   "source": [
    "wing_h(Xh[0,:].reshape(1,-1))"
   ]
  },
  {
   "cell_type": "code",
   "execution_count": null,
   "metadata": {},
   "outputs": [],
   "source": [
    "for i in range(Xh.shape[-1]):\n",
    "    plt.hist(Xh[:,i])\n",
    "    plt.show()"
   ]
  },
  {
   "cell_type": "code",
   "execution_count": null,
   "metadata": {},
   "outputs": [],
   "source": [
    "Xh[2,:]"
   ]
  },
  {
   "cell_type": "code",
   "execution_count": null,
   "metadata": {},
   "outputs": [],
   "source": [
    "wing_h(Xh[2,:].reshape(1,-1))"
   ]
  },
  {
   "cell_type": "code",
   "execution_count": null,
   "metadata": {},
   "outputs": [],
   "source": [
    "bx = plt.boxplot([yh, yl1, yl2, yl3])"
   ]
  },
  {
   "cell_type": "code",
   "execution_count": null,
   "metadata": {},
   "outputs": [],
   "source": [
    "np.min(yh)"
   ]
  },
  {
   "cell_type": "code",
   "execution_count": null,
   "metadata": {},
   "outputs": [],
   "source": [
    "min_value = 1000\n",
    "for i in range(50):\n",
    "    Xh, yh = wing_h(n = 1000000)\n",
    "    min_value = np.min([np.min(yh), min_value])\n",
    "    print(f'the minimum is {np.min(yh)} at {np.argmin(yh)}')\n",
    "print(f'min_value is {min_value}')"
   ]
  },
  {
   "cell_type": "code",
   "execution_count": null,
   "metadata": {},
   "outputs": [],
   "source": [
    "from scipy.optimize import minimize, Bounds"
   ]
  },
  {
   "cell_type": "code",
   "execution_count": null,
   "metadata": {},
   "outputs": [],
   "source": [
    "Xh, yh = wing_h(n = 1000000)\n",
    "Xh.shape"
   ]
  },
  {
   "cell_type": "code",
   "execution_count": null,
   "metadata": {},
   "outputs": [],
   "source": []
  },
  {
   "cell_type": "code",
   "execution_count": null,
   "metadata": {},
   "outputs": [],
   "source": [
    "l_bound = [150, 220, 6, -10, 16, 0.5, 0.08, 2.5, 1700, 0.025]\n",
    "u_bound = [200, 300, 10, 10, 45, 1, 0.18, 6, 2500, 0.08]"
   ]
  },
  {
   "cell_type": "code",
   "execution_count": null,
   "metadata": {},
   "outputs": [],
   "source": [
    "bnds = Bounds(l_bound, u_bound)"
   ]
  },
  {
   "cell_type": "code",
   "execution_count": null,
   "metadata": {},
   "outputs": [],
   "source": [
    "out = minimize(lambda x: wing_h(x), Xh[86,:].reshape(1,-1), method='Nelder-Mead', tol=1e-6, bounds= bnds)\n",
    "print(f'the minimum is {out.fun} at {out.x}')"
   ]
  },
  {
   "cell_type": "code",
   "execution_count": null,
   "metadata": {},
   "outputs": [],
   "source": [
    "out = minimize(lambda x: wing_h(x), Xh[86,:].reshape(1,-1), method='L-BFGS-B', tol=1e-6, bounds= bnds)\n",
    "print(f'the minimum is {out.fun} at {out.x}')"
   ]
  },
  {
   "cell_type": "code",
   "execution_count": null,
   "metadata": {},
   "outputs": [],
   "source": [
    "out = minimize(lambda x: wing_h(x), Xh[86,:].reshape(1,-1), method='SLSQP', tol=1e-6, bounds= bnds)\n",
    "print(f'the minimum is {out.fun} at {out.x}')"
   ]
  },
  {
   "cell_type": "code",
   "execution_count": null,
   "metadata": {},
   "outputs": [],
   "source": [
    "out = minimize(lambda x: wing_h(x), Xh[86,:].reshape(1,-1), method='Powell', tol=1e-6, bounds= bnds)\n",
    "print(f'the minimum is {out.fun} at {out.x}')"
   ]
  },
  {
   "cell_type": "code",
   "execution_count": null,
   "metadata": {},
   "outputs": [],
   "source": [
    "for i in range(10):\n",
    "    out = minimize(lambda x: wing_h(x), Xh[np.random.randint(0,1000),:].reshape(1,-1), method='L-BFGS-B', tol=1e-6, bounds= bnds)\n",
    "    print(f'the minimum is {out.fun} at {out.x}')\n"
   ]
  },
  {
   "cell_type": "code",
   "execution_count": null,
   "metadata": {},
   "outputs": [],
   "source": [
    "np.vstack([np.ones((5,3)), np.ones((5,3)), np.ones((5,3))])"
   ]
  },
  {
   "cell_type": "code",
   "execution_count": 8,
   "metadata": {},
   "outputs": [],
   "source": [
    "X_train, y_train = multi_fidelity_wing({'h': 10000,'l1': 10000,'l2': 10000,'l3': 10000 })"
   ]
  },
  {
   "cell_type": "code",
   "execution_count": 9,
   "metadata": {},
   "outputs": [
    {
     "data": {
      "text/plain": [
       "(40000, 11)"
      ]
     },
     "execution_count": 9,
     "metadata": {},
     "output_type": "execute_result"
    }
   ],
   "source": [
    "X_train.shape"
   ]
  },
  {
   "cell_type": "code",
   "execution_count": 7,
   "metadata": {},
   "outputs": [
    {
     "data": {
      "text/plain": [
       "(350,)"
      ]
     },
     "execution_count": 7,
     "metadata": {},
     "output_type": "execute_result"
    }
   ],
   "source": [
    "y_train.shape"
   ]
  },
  {
   "cell_type": "code",
   "execution_count": null,
   "metadata": {},
   "outputs": [],
   "source": []
  }
 ],
 "metadata": {
  "interpreter": {
   "hash": "ae81ae9375f041a5b53890a12241d489123c066c31b91487671cf31112db3d30"
  },
  "kernelspec": {
   "display_name": "Python 3.8.5 64-bit",
   "language": "python",
   "name": "python3"
  },
  "language_info": {
   "codemirror_mode": {
    "name": "ipython",
    "version": 3
   },
   "file_extension": ".py",
   "mimetype": "text/x-python",
   "name": "python",
   "nbconvert_exporter": "python",
   "pygments_lexer": "ipython3",
   "version": "3.8.5"
  },
  "orig_nbformat": 4
 },
 "nbformat": 4,
 "nbformat_minor": 2
}
