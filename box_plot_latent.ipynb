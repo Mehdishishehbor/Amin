{
 "cells": [
  {
   "cell_type": "code",
   "execution_count": 1,
   "metadata": {},
   "outputs": [],
   "source": [
    "import matplotlib.pyplot as plt\n",
    "import numpy as np"
   ]
  },
  {
   "cell_type": "code",
   "execution_count": 3,
   "metadata": {},
   "outputs": [
    {
     "ename": "TypeError",
     "evalue": "ufunc 'isfinite' not supported for the input types, and the inputs could not be safely coerced to any supported types according to the casting rule ''safe''",
     "output_type": "error",
     "traceback": [
      "\u001b[1;31m---------------------------------------------------------------------------\u001b[0m",
      "\u001b[1;31mTypeError\u001b[0m                                 Traceback (most recent call last)",
      "\u001b[1;32mg:\\Ramin_Bostanabad\\LMGP_gpytorch\\LMGP_Gpytorch\\box_plot_latent.ipynb Cell 2'\u001b[0m in \u001b[0;36m<module>\u001b[1;34m\u001b[0m\n\u001b[0;32m     <a href='vscode-notebook-cell:/g%3A/Ramin_Bostanabad/LMGP_gpytorch/LMGP_Gpytorch/box_plot_latent.ipynb#ch0000001?line=9'>10</a>\u001b[0m fig \u001b[39m=\u001b[39m plt\u001b[39m.\u001b[39mfigure(figsize \u001b[39m=\u001b[39m(\u001b[39m10\u001b[39m, \u001b[39m7\u001b[39m))\n\u001b[0;32m     <a href='vscode-notebook-cell:/g%3A/Ramin_Bostanabad/LMGP_gpytorch/LMGP_Gpytorch/box_plot_latent.ipynb#ch0000001?line=11'>12</a>\u001b[0m \u001b[39m# Creating axes instance\u001b[39;00m\n\u001b[1;32m---> <a href='vscode-notebook-cell:/g%3A/Ramin_Bostanabad/LMGP_gpytorch/LMGP_Gpytorch/box_plot_latent.ipynb#ch0000001?line=12'>13</a>\u001b[0m ax \u001b[39m=\u001b[39m fig\u001b[39m.\u001b[39;49madd_axes([\u001b[39m'\u001b[39;49m\u001b[39mLMGP-Linear\u001b[39;49m\u001b[39m'\u001b[39;49m, \u001b[39m'\u001b[39;49m\u001b[39mLMGP[]\u001b[39;49m\u001b[39m'\u001b[39;49m, \u001b[39m'\u001b[39;49m\u001b[39mLMGP[10]\u001b[39;49m\u001b[39m'\u001b[39;49m, \u001b[39m'\u001b[39;49m\u001b[39mLMGP[10,10]\u001b[39;49m\u001b[39m'\u001b[39;49m])\n\u001b[0;32m     <a href='vscode-notebook-cell:/g%3A/Ramin_Bostanabad/LMGP_gpytorch/LMGP_Gpytorch/box_plot_latent.ipynb#ch0000001?line=14'>15</a>\u001b[0m \u001b[39m# Creating plot\u001b[39;00m\n\u001b[0;32m     <a href='vscode-notebook-cell:/g%3A/Ramin_Bostanabad/LMGP_gpytorch/LMGP_Gpytorch/box_plot_latent.ipynb#ch0000001?line=15'>16</a>\u001b[0m bp \u001b[39m=\u001b[39m ax\u001b[39m.\u001b[39mboxplot(data)\n",
      "File \u001b[1;32m~\\AppData\\Local\\Programs\\Python\\Python38\\lib\\site-packages\\matplotlib\\figure.py:635\u001b[0m, in \u001b[0;36mFigureBase.add_axes\u001b[1;34m(self, *args, **kwargs)\u001b[0m\n\u001b[0;32m    <a href='file:///c%3A/Users/Mehdi/AppData/Local/Programs/Python/Python38/lib/site-packages/matplotlib/figure.py?line=632'>633</a>\u001b[0m \u001b[39melse\u001b[39;00m:\n\u001b[0;32m    <a href='file:///c%3A/Users/Mehdi/AppData/Local/Programs/Python/Python38/lib/site-packages/matplotlib/figure.py?line=633'>634</a>\u001b[0m     rect \u001b[39m=\u001b[39m args[\u001b[39m0\u001b[39m]\n\u001b[1;32m--> <a href='file:///c%3A/Users/Mehdi/AppData/Local/Programs/Python/Python38/lib/site-packages/matplotlib/figure.py?line=634'>635</a>\u001b[0m     \u001b[39mif\u001b[39;00m \u001b[39mnot\u001b[39;00m np\u001b[39m.\u001b[39;49misfinite(rect)\u001b[39m.\u001b[39mall():\n\u001b[0;32m    <a href='file:///c%3A/Users/Mehdi/AppData/Local/Programs/Python/Python38/lib/site-packages/matplotlib/figure.py?line=635'>636</a>\u001b[0m         \u001b[39mraise\u001b[39;00m \u001b[39mValueError\u001b[39;00m(\u001b[39m'\u001b[39m\u001b[39mall entries in rect must be finite \u001b[39m\u001b[39m'\u001b[39m\n\u001b[0;32m    <a href='file:///c%3A/Users/Mehdi/AppData/Local/Programs/Python/Python38/lib/site-packages/matplotlib/figure.py?line=636'>637</a>\u001b[0m                          \u001b[39m'\u001b[39m\u001b[39mnot \u001b[39m\u001b[39m{}\u001b[39;00m\u001b[39m'\u001b[39m\u001b[39m.\u001b[39mformat(rect))\n\u001b[0;32m    <a href='file:///c%3A/Users/Mehdi/AppData/Local/Programs/Python/Python38/lib/site-packages/matplotlib/figure.py?line=637'>638</a>\u001b[0m     projection_class, pkw \u001b[39m=\u001b[39m \u001b[39mself\u001b[39m\u001b[39m.\u001b[39m_process_projection_requirements(\n\u001b[0;32m    <a href='file:///c%3A/Users/Mehdi/AppData/Local/Programs/Python/Python38/lib/site-packages/matplotlib/figure.py?line=638'>639</a>\u001b[0m         \u001b[39m*\u001b[39margs, \u001b[39m*\u001b[39m\u001b[39m*\u001b[39mkwargs)\n",
      "\u001b[1;31mTypeError\u001b[0m: ufunc 'isfinite' not supported for the input types, and the inputs could not be safely coerced to any supported types according to the casting rule ''safe''"
     ]
    },
    {
     "data": {
      "text/plain": [
       "<Figure size 720x504 with 0 Axes>"
      ]
     },
     "metadata": {},
     "output_type": "display_data"
    }
   ],
   "source": [
    "# Creating dataset\n",
    "np.random.seed(10)\n",
    "\n",
    "data_1 = np.random.normal(100, 10, 200)\n",
    "data_2 = np.random.normal(90, 20, 200)\n",
    "data_3 = np.random.normal(80, 30, 200)\n",
    "data_4 = np.random.normal(70, 40, 200)\n",
    "data = [data_1, data_2, data_3, data_4]\n",
    "\n",
    "fig = plt.figure(figsize =(10, 7))\n",
    "\n",
    "# Creating axes instance\n",
    "ax = fig.add_axes(['LMGP-Linear', 'LMGP[]', 'LMGP[10]', 'LMGP[10,10]'])\n",
    "\n",
    "# Creating plot\n",
    "bp = ax.boxplot(data)\n",
    "\n",
    "# show plot\n",
    "plt.show()\n"
   ]
  }
 ],
 "metadata": {
  "interpreter": {
   "hash": "287aca9518595872bb0041ec84b4ee864cd7576f8d42531269146b7733b8deb0"
  },
  "kernelspec": {
   "display_name": "Python 3.8.5 64-bit",
   "language": "python",
   "name": "python3"
  },
  "language_info": {
   "codemirror_mode": {
    "name": "ipython",
    "version": 3
   },
   "file_extension": ".py",
   "mimetype": "text/x-python",
   "name": "python",
   "nbconvert_exporter": "python",
   "pygments_lexer": "ipython3",
   "version": "3.8.5"
  },
  "orig_nbformat": 4
 },
 "nbformat": 4,
 "nbformat_minor": 2
}
